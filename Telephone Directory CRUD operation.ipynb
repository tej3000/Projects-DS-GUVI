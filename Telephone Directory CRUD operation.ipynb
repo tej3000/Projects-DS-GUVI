{
 "cells": [
  {
   "cell_type": "code",
   "execution_count": null,
   "id": "a3f52af3",
   "metadata": {},
   "outputs": [],
   "source": [
    "import pymongo         # importing the required modules\n",
    "client = pymongo.MongoClient(\"mongodb://localhost:27017/\")      # Initiating a mongoclient instance\n",
    "db = client[\"Tele_records\"]   # Assign a db variable and creating database\n",
    "my_col = db['Tele_records']   # Creating a collection in the database\n",
    "my_col.insert_one({\"Name\":\"My name is\",\"Phone Number\": 1234567890,\"Address\":{\"street\": \"Balak nagar\",\"City\":\"Ahemedabad\",\"State\":\"Gujarat\"}})  # Inserting data into the collection\n",
    "for i in my_col.find():    # Retrieving the data \n",
    "    print(i)"
   ]
  },
  {
   "cell_type": "code",
   "execution_count": null,
   "id": "8b6268f0",
   "metadata": {},
   "outputs": [],
   "source": [
    "my_col.insert_one({\"Name\":\"Something\",\"Phone Number\": 1023456789,\"Address\":{\"street\": \"Gopal nagar\",\"City\":\"Kolkata\",\"State\":\"West Bengal\"}})  # Inserting some more data into the collection\n",
    "my_col.insert_one({\"Name\":\"Someone\",\"Phone Number\": 5456879132,\"Address\":{\"street\": \"Rajeev nagar\",\"City\":\"Bengaluru \",\"State\":\"Karnataka\"}})  # Inserting some more data into the collection\n",
    "my_col.insert_one({\"Name\":\"Somewhere\",\"Phone Number\": 7894561832,\"Address\":{\"street\": \"Anandh nagar\",\"City\":\"Chennai\",\"State\":\"Tamilnadu\"}})  # Inserting some more data into the collection"
   ]
  },
  {
   "cell_type": "code",
   "execution_count": null,
   "id": "43c43ac3",
   "metadata": {},
   "outputs": [],
   "source": [
    "for i in my_col.find():    # Retrieving the data \n",
    "    print(i)"
   ]
  },
  {
   "cell_type": "code",
   "execution_count": null,
   "id": "2528f461",
   "metadata": {},
   "outputs": [],
   "source": [
    "myquery = {\"Phone Number\":1234567890}      # Retriving the data of person that belongs to the particular phone number\n",
    "y = my_col.find(myquery)\n",
    "for x in y:\n",
    "    print(x)"
   ]
  },
  {
   "cell_type": "code",
   "execution_count": null,
   "id": "0f1b4380",
   "metadata": {},
   "outputs": [],
   "source": [
    "my_col.update_one({\"Name\":\"Somewhere\"},{\"$set\":{\"Name\":\"Sometime\"}})     # Updating the data\n",
    "for i in my_col.find():\n",
    "    print(i)"
   ]
  },
  {
   "cell_type": "code",
   "execution_count": null,
   "id": "ea7a74f4",
   "metadata": {},
   "outputs": [],
   "source": [
    "my_col.update_one({\"Phone Number\":7894561832},{\"$set\":{\"Name\":\"Somewhere\"}})     # Updating the data\n",
    "for i in my_col.find():\n",
    "    print(i)"
   ]
  },
  {
   "cell_type": "code",
   "execution_count": null,
   "id": "d3d70685",
   "metadata": {},
   "outputs": [],
   "source": [
    "my_col.delete_one({\"Phone Number\":1234567890})        # Deleting the data that belongs to a paricular phone number.\n",
    "for i in my_col.find():\n",
    "    print(i)"
   ]
  },
  {
   "cell_type": "code",
   "execution_count": null,
   "id": "950a6c9f",
   "metadata": {},
   "outputs": [],
   "source": []
  }
 ],
 "metadata": {
  "kernelspec": {
   "display_name": "Python 3 (ipykernel)",
   "language": "python",
   "name": "python3"
  },
  "language_info": {
   "codemirror_mode": {
    "name": "ipython",
    "version": 3
   },
   "file_extension": ".py",
   "mimetype": "text/x-python",
   "name": "python",
   "nbconvert_exporter": "python",
   "pygments_lexer": "ipython3",
   "version": "3.9.13"
  }
 },
 "nbformat": 4,
 "nbformat_minor": 5
}
